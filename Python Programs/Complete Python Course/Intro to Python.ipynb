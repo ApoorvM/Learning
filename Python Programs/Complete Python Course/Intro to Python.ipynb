{
 "cells": [
  {
   "cell_type": "markdown",
   "metadata": {},
   "source": [
    "Chapter 1: Introduction to Python\n",
    "https://tigeranalytics.udemy.com/course/the-complete-python-course/learn/lecture/15218110#overview"
   ]
  },
  {
   "cell_type": "code",
   "execution_count": 3,
   "metadata": {},
   "outputs": [],
   "source": [
    "# Coding exercise 1\n",
    "# Create two variables, var1 and var2, both with the same value.\n",
    "var1 = 2 \n",
    "var2 = 2\n",
    "\n",
    "# Create two variables, num1 and num2, which multiply together to give 16.\n",
    "num1 = 4\n",
    "num2 = 4\n"
   ]
  },
  {
   "cell_type": "markdown",
   "metadata": {},
   "source": [
    "Exercise: communicating with users (Python 3.10)\n",
    "This problem has two parts:\n",
    "Part 1\n",
    "Ask the user for their name, and then greet them using the phrase \"Hello, NAME\". Of course, NAME should be replaced by the name they've given you!\n",
    "Part 2\n",
    "Ask the user for their age, and then print out how many months that is. You only need to print the number of months out.\n",
    "Remember that for this you'll need to convert the user's input into a number by using int()."
   ]
  },
  {
   "cell_type": "code",
   "execution_count": 2,
   "metadata": {},
   "outputs": [
    {
     "name": "stdout",
     "output_type": "stream",
     "text": [
      "Hello, Apoorv\n",
      "312\n"
     ]
    }
   ],
   "source": [
    "# First, ask the user for their name. Then, print out the greeting \"Hello, NAME\"\n",
    "# Remember the uppercase H, the comma, and the space between words!\n",
    "name = input(\"Enter your name: \")\n",
    "print(f\"Hello, {name}\")\n",
    "# Secondly, ask the user for their age and convert it into a number.\n",
    "# Then, print out how many months that equals to (you'll have to multiply the age by 12).\n",
    "age = int(input(\"Enter your age: \"))\n",
    "months = age * 12\n",
    "print(months)"
   ]
  }
 ],
 "metadata": {
  "kernelspec": {
   "display_name": "Python 3",
   "language": "python",
   "name": "python3"
  },
  "language_info": {
   "codemirror_mode": {
    "name": "ipython",
    "version": 3
   },
   "file_extension": ".py",
   "mimetype": "text/x-python",
   "name": "python",
   "nbconvert_exporter": "python",
   "pygments_lexer": "ipython3",
   "version": "3.11.4"
  },
  "orig_nbformat": 4
 },
 "nbformat": 4,
 "nbformat_minor": 2
}
